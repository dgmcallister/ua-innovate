{
 "cells": [
  {
   "cell_type": "markdown",
   "metadata": {},
   "source": [
    "# UA Innovate\n",
    "### The goal of this project is to infrom business decisions that can reduce the cost for companies returning to the office\n",
    "### In order to accomplish this goal we will explore our dataset and build our analysis based off of data sets provided to us\n",
    "### that conatin location, weather other qunatative data on the attributes of buildings"
   ]
  },
  {
   "cell_type": "code",
   "execution_count": 309,
   "metadata": {},
   "outputs": [],
   "source": [
    "# Essentials\n",
    "import numpy as np\n",
    "import pandas as pd\n",
    "import datetime\n",
    "import random\n",
    "import os\n",
    "import stat\n",
    "import statsmodels.api as sm\n",
    "# Plots\n",
    "import seaborn as sn\n",
    "import matplotlib.pyplot as plt\n",
    "import warnings\n",
    "import os\n",
    "warnings.filterwarnings(\"ignore\", category=FutureWarning)"
   ]
  },
  {
   "cell_type": "markdown",
   "metadata": {},
   "source": [
    "### We start by loading in our training and testing data, analytics will be done on the trainining data because of\n",
    "### the EUI Scores that it contains"
   ]
  },
  {
   "cell_type": "code",
   "execution_count": 310,
   "metadata": {},
   "outputs": [],
   "source": [
    "data = pd.read_csv('dataset/train.csv')\n",
    "test_data = pd.read_csv('dataset/test.csv')"
   ]
  },
  {
   "cell_type": "markdown",
   "metadata": {},
   "source": [
    "### From there we will begin cleaning our data to start we will reset the index and getting rid of any duplicates"
   ]
  },
  {
   "cell_type": "code",
   "execution_count": 311,
   "metadata": {},
   "outputs": [],
   "source": [
    "data.set_index('id', inplace=True)\n",
    "data.drop_duplicates(inplace=True)"
   ]
  },
  {
   "cell_type": "markdown",
   "metadata": {},
   "source": [
    "### After loading in and getting rid of douplicates we see that we are left with 63 variables and 75,718 data entries\n",
    "### each of those enteries repersents a building and the varibles are attributes of that building"
   ]
  },
  {
   "cell_type": "code",
   "execution_count": 312,
   "metadata": {},
   "outputs": [
    {
     "data": {
      "text/plain": [
       "(75718, 63)"
      ]
     },
     "execution_count": 312,
     "metadata": {},
     "output_type": "execute_result"
    }
   ],
   "source": [
    "data.shape"
   ]
  },
  {
   "cell_type": "markdown",
   "metadata": {},
   "source": [
    "### From here we can begin assessing the health of our data starting with checking data availability\n",
    "\n",
    "### We beign by checking which varible contain any missing data NaN"
   ]
  },
  {
   "cell_type": "code",
   "execution_count": 313,
   "metadata": {},
   "outputs": [
    {
     "name": "stdout",
     "output_type": "stream",
     "text": [
      "['year_built', 'energy_star_rating', 'direction_max_wind_speed', 'direction_peak_wind_speed', 'max_wind_speed', 'days_with_fog']\n"
     ]
    }
   ],
   "source": [
    "variables_w_na = [col for col in data.columns if data[col].isnull().any()]\n",
    "print(variables_w_na)"
   ]
  },
  {
   "cell_type": "markdown",
   "metadata": {},
   "source": [
    "### From here we can create show the total count of NaN values as well as the percentage of the values that are NaN for each \n",
    "### column"
   ]
  },
  {
   "cell_type": "code",
   "execution_count": 314,
   "metadata": {},
   "outputs": [
    {
     "data": {
      "text/html": [
       "<div>\n",
       "<style scoped>\n",
       "    .dataframe tbody tr th:only-of-type {\n",
       "        vertical-align: middle;\n",
       "    }\n",
       "\n",
       "    .dataframe tbody tr th {\n",
       "        vertical-align: top;\n",
       "    }\n",
       "\n",
       "    .dataframe thead th {\n",
       "        text-align: right;\n",
       "    }\n",
       "</style>\n",
       "<table border=\"1\" class=\"dataframe\">\n",
       "  <thead>\n",
       "    <tr style=\"text-align: right;\">\n",
       "      <th></th>\n",
       "      <th>NaN Count</th>\n",
       "      <th>Percentage NaN</th>\n",
       "    </tr>\n",
       "  </thead>\n",
       "  <tbody>\n",
       "    <tr>\n",
       "      <th>year_built</th>\n",
       "      <td>1817</td>\n",
       "      <td>0.023997</td>\n",
       "    </tr>\n",
       "    <tr>\n",
       "      <th>energy_star_rating</th>\n",
       "      <td>26682</td>\n",
       "      <td>0.352386</td>\n",
       "    </tr>\n",
       "    <tr>\n",
       "      <th>direction_max_wind_speed</th>\n",
       "      <td>41070</td>\n",
       "      <td>0.542407</td>\n",
       "    </tr>\n",
       "    <tr>\n",
       "      <th>direction_peak_wind_speed</th>\n",
       "      <td>41798</td>\n",
       "      <td>0.552022</td>\n",
       "    </tr>\n",
       "    <tr>\n",
       "      <th>max_wind_speed</th>\n",
       "      <td>41070</td>\n",
       "      <td>0.542407</td>\n",
       "    </tr>\n",
       "    <tr>\n",
       "      <th>days_with_fog</th>\n",
       "      <td>45783</td>\n",
       "      <td>0.604651</td>\n",
       "    </tr>\n",
       "  </tbody>\n",
       "</table>\n",
       "</div>"
      ],
      "text/plain": [
       "                           NaN Count  Percentage NaN\n",
       "year_built                      1817        0.023997\n",
       "energy_star_rating             26682        0.352386\n",
       "direction_max_wind_speed       41070        0.542407\n",
       "direction_peak_wind_speed      41798        0.552022\n",
       "max_wind_speed                 41070        0.542407\n",
       "days_with_fog                  45783        0.604651"
      ]
     },
     "execution_count": 314,
     "metadata": {},
     "output_type": "execute_result"
    }
   ],
   "source": [
    "nan_table = data.isnull().sum(axis=0).rename('NaN Count').to_frame()\n",
    "nan_table['Percentage NaN'] = nan_table['NaN Count']/data.shape[0]\n",
    "nan_table = nan_table[nan_table['NaN Count'] > 0]\n",
    "nan_table\n"
   ]
  },
  {
   "cell_type": "markdown",
   "metadata": {},
   "source": [
    "### We can see that several catagories have large gaps in data so we should refrain from using them further expecailly those with greater\n",
    "### then 50% of the data missing\n",
    "\n",
    "### From here we can being exporing our data to find out what is catagorial and what is quantative we can start by finding the dtype of all the columns"
   ]
  },
  {
   "cell_type": "code",
   "execution_count": 315,
   "metadata": {},
   "outputs": [
    {
     "name": "stdout",
     "output_type": "stream",
     "text": [
      "Year_Factor : int64\n",
      "State_Factor : object\n",
      "building_class : object\n",
      "facility_type : object\n",
      "floor_area : float64\n",
      "year_built : float64\n",
      "energy_star_rating : float64\n",
      "ELEVATION : float64\n",
      "january_min_temp : int64\n",
      "january_avg_temp : float64\n",
      "january_max_temp : int64\n",
      "february_min_temp : int64\n",
      "february_avg_temp : float64\n",
      "february_max_temp : int64\n",
      "march_min_temp : int64\n",
      "march_avg_temp : float64\n",
      "march_max_temp : int64\n",
      "april_min_temp : int64\n",
      "april_avg_temp : float64\n",
      "april_max_temp : int64\n",
      "may_min_temp : int64\n",
      "may_avg_temp : float64\n",
      "may_max_temp : int64\n",
      "june_min_temp : int64\n",
      "june_avg_temp : float64\n",
      "june_max_temp : int64\n",
      "july_min_temp : int64\n",
      "july_avg_temp : float64\n",
      "july_max_temp : int64\n",
      "august_min_temp : int64\n",
      "august_avg_temp : float64\n",
      "august_max_temp : int64\n",
      "september_min_temp : int64\n",
      "september_avg_temp : float64\n",
      "september_max_temp : int64\n",
      "october_min_temp : int64\n",
      "october_avg_temp : float64\n",
      "october_max_temp : int64\n",
      "november_min_temp : int64\n",
      "november_avg_temp : float64\n",
      "november_max_temp : int64\n",
      "december_min_temp : int64\n",
      "december_avg_temp : float64\n",
      "december_max_temp : int64\n",
      "cooling_degree_days : int64\n",
      "heating_degree_days : int64\n",
      "precipitation_inches : float64\n",
      "snowfall_inches : float64\n",
      "snowdepth_inches : int64\n",
      "avg_temp : float64\n",
      "days_below_30F : int64\n",
      "days_below_20F : int64\n",
      "days_below_10F : int64\n",
      "days_below_0F : int64\n",
      "days_above_80F : int64\n",
      "days_above_90F : int64\n",
      "days_above_100F : int64\n",
      "days_above_110F : int64\n",
      "direction_max_wind_speed : float64\n",
      "direction_peak_wind_speed : float64\n",
      "max_wind_speed : float64\n",
      "days_with_fog : float64\n",
      "site_eui : float64\n"
     ]
    }
   ],
   "source": [
    "col_list = data.columns\n",
    "for col in col_list:\n",
    "    print(col + \" : \", end=\"\")\n",
    "    print(data[col].dtype)"
   ]
  },
  {
   "cell_type": "code",
   "execution_count": 316,
   "metadata": {},
   "outputs": [
    {
     "data": {
      "text/html": [
       "<div>\n",
       "<style scoped>\n",
       "    .dataframe tbody tr th:only-of-type {\n",
       "        vertical-align: middle;\n",
       "    }\n",
       "\n",
       "    .dataframe tbody tr th {\n",
       "        vertical-align: top;\n",
       "    }\n",
       "\n",
       "    .dataframe thead th {\n",
       "        text-align: right;\n",
       "    }\n",
       "</style>\n",
       "<table border=\"1\" class=\"dataframe\">\n",
       "  <thead>\n",
       "    <tr style=\"text-align: right;\">\n",
       "      <th></th>\n",
       "      <th>Year_Factor</th>\n",
       "      <th>State_Factor</th>\n",
       "      <th>building_class</th>\n",
       "      <th>facility_type</th>\n",
       "      <th>floor_area</th>\n",
       "      <th>year_built</th>\n",
       "      <th>energy_star_rating</th>\n",
       "      <th>ELEVATION</th>\n",
       "      <th>january_min_temp</th>\n",
       "      <th>january_avg_temp</th>\n",
       "      <th>...</th>\n",
       "      <th>days_below_0F</th>\n",
       "      <th>days_above_80F</th>\n",
       "      <th>days_above_90F</th>\n",
       "      <th>days_above_100F</th>\n",
       "      <th>days_above_110F</th>\n",
       "      <th>direction_max_wind_speed</th>\n",
       "      <th>direction_peak_wind_speed</th>\n",
       "      <th>max_wind_speed</th>\n",
       "      <th>days_with_fog</th>\n",
       "      <th>site_eui</th>\n",
       "    </tr>\n",
       "    <tr>\n",
       "      <th>id</th>\n",
       "      <th></th>\n",
       "      <th></th>\n",
       "      <th></th>\n",
       "      <th></th>\n",
       "      <th></th>\n",
       "      <th></th>\n",
       "      <th></th>\n",
       "      <th></th>\n",
       "      <th></th>\n",
       "      <th></th>\n",
       "      <th></th>\n",
       "      <th></th>\n",
       "      <th></th>\n",
       "      <th></th>\n",
       "      <th></th>\n",
       "      <th></th>\n",
       "      <th></th>\n",
       "      <th></th>\n",
       "      <th></th>\n",
       "      <th></th>\n",
       "      <th></th>\n",
       "    </tr>\n",
       "  </thead>\n",
       "  <tbody>\n",
       "    <tr>\n",
       "      <th>0</th>\n",
       "      <td>1</td>\n",
       "      <td>State_1</td>\n",
       "      <td>Commercial</td>\n",
       "      <td>Grocery_store_or_food_market</td>\n",
       "      <td>61242.0</td>\n",
       "      <td>1942.0</td>\n",
       "      <td>11.0</td>\n",
       "      <td>2.4</td>\n",
       "      <td>36</td>\n",
       "      <td>50.5</td>\n",
       "      <td>...</td>\n",
       "      <td>0</td>\n",
       "      <td>14</td>\n",
       "      <td>0</td>\n",
       "      <td>0</td>\n",
       "      <td>0</td>\n",
       "      <td>1.0</td>\n",
       "      <td>1.0</td>\n",
       "      <td>1.0</td>\n",
       "      <td>NaN</td>\n",
       "      <td>248.682615</td>\n",
       "    </tr>\n",
       "    <tr>\n",
       "      <th>1</th>\n",
       "      <td>1</td>\n",
       "      <td>State_1</td>\n",
       "      <td>Commercial</td>\n",
       "      <td>Warehouse_Distribution_or_Shipping_center</td>\n",
       "      <td>274000.0</td>\n",
       "      <td>1955.0</td>\n",
       "      <td>45.0</td>\n",
       "      <td>1.8</td>\n",
       "      <td>36</td>\n",
       "      <td>50.5</td>\n",
       "      <td>...</td>\n",
       "      <td>0</td>\n",
       "      <td>14</td>\n",
       "      <td>0</td>\n",
       "      <td>0</td>\n",
       "      <td>0</td>\n",
       "      <td>1.0</td>\n",
       "      <td>NaN</td>\n",
       "      <td>1.0</td>\n",
       "      <td>12.0</td>\n",
       "      <td>26.500150</td>\n",
       "    </tr>\n",
       "    <tr>\n",
       "      <th>2</th>\n",
       "      <td>1</td>\n",
       "      <td>State_1</td>\n",
       "      <td>Commercial</td>\n",
       "      <td>Retail_Enclosed_mall</td>\n",
       "      <td>280025.0</td>\n",
       "      <td>1951.0</td>\n",
       "      <td>97.0</td>\n",
       "      <td>1.8</td>\n",
       "      <td>36</td>\n",
       "      <td>50.5</td>\n",
       "      <td>...</td>\n",
       "      <td>0</td>\n",
       "      <td>14</td>\n",
       "      <td>0</td>\n",
       "      <td>0</td>\n",
       "      <td>0</td>\n",
       "      <td>1.0</td>\n",
       "      <td>NaN</td>\n",
       "      <td>1.0</td>\n",
       "      <td>12.0</td>\n",
       "      <td>24.693619</td>\n",
       "    </tr>\n",
       "    <tr>\n",
       "      <th>3</th>\n",
       "      <td>1</td>\n",
       "      <td>State_1</td>\n",
       "      <td>Commercial</td>\n",
       "      <td>Education_Other_classroom</td>\n",
       "      <td>55325.0</td>\n",
       "      <td>1980.0</td>\n",
       "      <td>46.0</td>\n",
       "      <td>1.8</td>\n",
       "      <td>36</td>\n",
       "      <td>50.5</td>\n",
       "      <td>...</td>\n",
       "      <td>0</td>\n",
       "      <td>14</td>\n",
       "      <td>0</td>\n",
       "      <td>0</td>\n",
       "      <td>0</td>\n",
       "      <td>1.0</td>\n",
       "      <td>NaN</td>\n",
       "      <td>1.0</td>\n",
       "      <td>12.0</td>\n",
       "      <td>48.406926</td>\n",
       "    </tr>\n",
       "    <tr>\n",
       "      <th>4</th>\n",
       "      <td>1</td>\n",
       "      <td>State_1</td>\n",
       "      <td>Commercial</td>\n",
       "      <td>Warehouse_Nonrefrigerated</td>\n",
       "      <td>66000.0</td>\n",
       "      <td>1985.0</td>\n",
       "      <td>100.0</td>\n",
       "      <td>2.4</td>\n",
       "      <td>36</td>\n",
       "      <td>50.5</td>\n",
       "      <td>...</td>\n",
       "      <td>0</td>\n",
       "      <td>14</td>\n",
       "      <td>0</td>\n",
       "      <td>0</td>\n",
       "      <td>0</td>\n",
       "      <td>1.0</td>\n",
       "      <td>1.0</td>\n",
       "      <td>1.0</td>\n",
       "      <td>NaN</td>\n",
       "      <td>3.899395</td>\n",
       "    </tr>\n",
       "  </tbody>\n",
       "</table>\n",
       "<p>5 rows × 63 columns</p>\n",
       "</div>"
      ],
      "text/plain": [
       "    Year_Factor State_Factor building_class  \\\n",
       "id                                            \n",
       "0             1      State_1     Commercial   \n",
       "1             1      State_1     Commercial   \n",
       "2             1      State_1     Commercial   \n",
       "3             1      State_1     Commercial   \n",
       "4             1      State_1     Commercial   \n",
       "\n",
       "                                facility_type  floor_area  year_built  \\\n",
       "id                                                                      \n",
       "0                Grocery_store_or_food_market     61242.0      1942.0   \n",
       "1   Warehouse_Distribution_or_Shipping_center    274000.0      1955.0   \n",
       "2                        Retail_Enclosed_mall    280025.0      1951.0   \n",
       "3                   Education_Other_classroom     55325.0      1980.0   \n",
       "4                   Warehouse_Nonrefrigerated     66000.0      1985.0   \n",
       "\n",
       "    energy_star_rating  ELEVATION  january_min_temp  january_avg_temp  ...  \\\n",
       "id                                                                     ...   \n",
       "0                 11.0        2.4                36              50.5  ...   \n",
       "1                 45.0        1.8                36              50.5  ...   \n",
       "2                 97.0        1.8                36              50.5  ...   \n",
       "3                 46.0        1.8                36              50.5  ...   \n",
       "4                100.0        2.4                36              50.5  ...   \n",
       "\n",
       "    days_below_0F  days_above_80F  days_above_90F  days_above_100F  \\\n",
       "id                                                                   \n",
       "0               0              14               0                0   \n",
       "1               0              14               0                0   \n",
       "2               0              14               0                0   \n",
       "3               0              14               0                0   \n",
       "4               0              14               0                0   \n",
       "\n",
       "    days_above_110F  direction_max_wind_speed  direction_peak_wind_speed  \\\n",
       "id                                                                         \n",
       "0                 0                       1.0                        1.0   \n",
       "1                 0                       1.0                        NaN   \n",
       "2                 0                       1.0                        NaN   \n",
       "3                 0                       1.0                        NaN   \n",
       "4                 0                       1.0                        1.0   \n",
       "\n",
       "    max_wind_speed  days_with_fog    site_eui  \n",
       "id                                             \n",
       "0              1.0            NaN  248.682615  \n",
       "1              1.0           12.0   26.500150  \n",
       "2              1.0           12.0   24.693619  \n",
       "3              1.0           12.0   48.406926  \n",
       "4              1.0            NaN    3.899395  \n",
       "\n",
       "[5 rows x 63 columns]"
      ]
     },
     "execution_count": 316,
     "metadata": {},
     "output_type": "execute_result"
    }
   ],
   "source": [
    "data.head()"
   ]
  },
  {
   "cell_type": "markdown",
   "metadata": {},
   "source": [
    "### Based on the data types and a look at the dataframe it is clear that State_Facto, building_class, and facility_type is all catagorical data\n",
    "### We dive into Year_Factor as well becasue of the naming convention similar to State_Factor"
   ]
  },
  {
   "cell_type": "code",
   "execution_count": 317,
   "metadata": {},
   "outputs": [
    {
     "data": {
      "text/plain": [
       "array([1, 2, 3, 4, 5, 6])"
      ]
     },
     "execution_count": 317,
     "metadata": {},
     "output_type": "execute_result"
    }
   ],
   "source": [
    "data['Year_Factor'].unique()"
   ]
  },
  {
   "cell_type": "markdown",
   "metadata": {},
   "source": [
    "### It apears that Year_Factor is a catagoical variable that seems to repersents buckets of ages of buildings\n",
    "### In order to test this theory we can make a histogram of the year_built after dropping the NaN and compaire it to \n",
    "### Year_Factor"
   ]
  },
  {
   "cell_type": "code",
   "execution_count": 318,
   "metadata": {},
   "outputs": [
    {
     "data": {
      "text/plain": [
       "Text(0, 0.5, 'Count')"
      ]
     },
     "execution_count": 318,
     "metadata": {},
     "output_type": "execute_result"
    },
    {
     "data": {
      "image/png": "[encoded data removed]",
      "text/plain": [
       "<Figure size 432x288 with 1 Axes>"
      ]
     },
     "metadata": {
      "needs_background": "light"
     },
     "output_type": "display_data"
    }
   ],
   "source": [
    "data.dropna()['year_built'].hist(bins=6)\n",
    "plt.title(\"Year Built Histogram\")\n",
    "plt.xlabel('Year Built')\n",
    "plt.ylabel('Count')"
   ]
  },
  {
   "cell_type": "markdown",
   "metadata": {},
   "source": [
    "### Here we see that there is an issue with some of the data. The chart should not start at 0 lets explore this further by checking the min year"
   ]
  },
  {
   "cell_type": "code",
   "execution_count": 319,
   "metadata": {},
   "outputs": [
    {
     "data": {
      "text/plain": [
       "0.0"
      ]
     },
     "execution_count": 319,
     "metadata": {},
     "output_type": "execute_result"
    }
   ],
   "source": [
    "data.dropna()['year_built'].min()"
   ]
  },
  {
   "cell_type": "markdown",
   "metadata": {},
   "source": [
    "### The min value should not be 0 it is likley that 0 was put instead of NaN in come cases in the data, in ordr to clearn that up we can add a filter"
   ]
  },
  {
   "cell_type": "code",
   "execution_count": 320,
   "metadata": {},
   "outputs": [
    {
     "data": {
      "text/plain": [
       "1600.0"
      ]
     },
     "execution_count": 320,
     "metadata": {},
     "output_type": "execute_result"
    }
   ],
   "source": [
    "data.dropna()['year_built'][data['year_built'] > 0].min()"
   ]
  },
  {
   "cell_type": "markdown",
   "metadata": {},
   "source": [
    "### This is a much more likely starting point so from now on we will filter out year 0 from our data"
   ]
  },
  {
   "cell_type": "code",
   "execution_count": 321,
   "metadata": {},
   "outputs": [
    {
     "data": {
      "text/plain": [
       "Text(0, 0.5, 'Count')"
      ]
     },
     "execution_count": 321,
     "metadata": {},
     "output_type": "execute_result"
    },
    {
     "data": {
      "image/png": "[encoded data removed]",
      "text/plain": [
       "<Figure size 432x288 with 1 Axes>"
      ]
     },
     "metadata": {
      "needs_background": "light"
     },
     "output_type": "display_data"
    }
   ],
   "source": [
    "data.dropna()['year_built'][data['year_built'] > 0].hist(bins=6)\n",
    "plt.title(\"Year Built Histogram\")\n",
    "plt.xlabel('Year Built')\n",
    "plt.ylabel('Count')"
   ]
  },
  {
   "cell_type": "code",
   "execution_count": 322,
   "metadata": {},
   "outputs": [
    {
     "data": {
      "text/plain": [
       "Text(0, 0.5, 'Count')"
      ]
     },
     "execution_count": 322,
     "metadata": {},
     "output_type": "execute_result"
    },
    {
     "data": {
      "image/png": "[encoded data removed]",
      "text/plain": [
       "<Figure size 432x288 with 1 Axes>"
      ]
     },
     "metadata": {
      "needs_background": "light"
     },
     "output_type": "display_data"
    }
   ],
   "source": [
    "data['Year_Factor'].hist(bins=6)\n",
    "plt.title(\"Year Factor Histogram\")\n",
    "plt.xlabel('Year_Factor')\n",
    "plt.ylabel('Count')"
   ]
  },
  {
   "cell_type": "markdown",
   "metadata": {},
   "source": [
    "### Bases on the compairson between these charts we assume that Year_Factor is groups of year where lower numbers represent groups of older year and higher numbers represent more recent years\n",
    "\n",
    "### We are also assuming that the state numbers under State_Factor repersent differnt states that the buildings are located in\n",
    "\n",
    "\n",
    "### Now that we have defined the four catagorical data variables lets explore these a little further"
   ]
  },
  {
   "cell_type": "code",
   "execution_count": 323,
   "metadata": {},
   "outputs": [
    {
     "data": {
      "text/html": [
       "<div>\n",
       "<style scoped>\n",
       "    .dataframe tbody tr th:only-of-type {\n",
       "        vertical-align: middle;\n",
       "    }\n",
       "\n",
       "    .dataframe tbody tr th {\n",
       "        vertical-align: top;\n",
       "    }\n",
       "\n",
       "    .dataframe thead th {\n",
       "        text-align: right;\n",
       "    }\n",
       "</style>\n",
       "<table border=\"1\" class=\"dataframe\">\n",
       "  <thead>\n",
       "    <tr style=\"text-align: right;\">\n",
       "      <th></th>\n",
       "      <th>State Count</th>\n",
       "    </tr>\n",
       "  </thead>\n",
       "  <tbody>\n",
       "    <tr>\n",
       "      <th>State_6</th>\n",
       "      <td>50807</td>\n",
       "    </tr>\n",
       "    <tr>\n",
       "      <th>State_11</th>\n",
       "      <td>6412</td>\n",
       "    </tr>\n",
       "    <tr>\n",
       "      <th>State_1</th>\n",
       "      <td>5613</td>\n",
       "    </tr>\n",
       "    <tr>\n",
       "      <th>State_2</th>\n",
       "      <td>4870</td>\n",
       "    </tr>\n",
       "    <tr>\n",
       "      <th>State_4</th>\n",
       "      <td>4300</td>\n",
       "    </tr>\n",
       "    <tr>\n",
       "      <th>State_8</th>\n",
       "      <td>3701</td>\n",
       "    </tr>\n",
       "    <tr>\n",
       "      <th>State_10</th>\n",
       "      <td>15</td>\n",
       "    </tr>\n",
       "  </tbody>\n",
       "</table>\n",
       "</div>"
      ],
      "text/plain": [
       "          State Count\n",
       "State_6         50807\n",
       "State_11         6412\n",
       "State_1          5613\n",
       "State_2          4870\n",
       "State_4          4300\n",
       "State_8          3701\n",
       "State_10           15"
      ]
     },
     "execution_count": 323,
     "metadata": {},
     "output_type": "execute_result"
    }
   ],
   "source": [
    "State_Count = data['State_Factor'].value_counts().to_frame(name=\"State Count\")\n",
    "State_Count"
   ]
  },
  {
   "cell_type": "code",
   "execution_count": 324,
   "metadata": {},
   "outputs": [
    {
     "data": {
      "text/plain": [
       "Text(0, 0.5, 'Count')"
      ]
     },
     "execution_count": 324,
     "metadata": {},
     "output_type": "execute_result"
    },
    {
     "data": {
      "image/png": "[encoded data removed]",
      "text/plain": [
       "<Figure size 432x288 with 1 Axes>"
      ]
     },
     "metadata": {
      "needs_background": "light"
     },
     "output_type": "display_data"
    }
   ],
   "source": [
    "State_Count.plot(kind='bar')\n",
    "plt.title(\"State Factor\")\n",
    "plt.xlabel('State Factor')\n",
    "plt.ylabel('Count')"
   ]
  },
  {
   "cell_type": "markdown",
   "metadata": {},
   "source": [
    "### Based off this bar chart we can see that all of the states hold a relativly similar count of buildings with the exception of State_10 that has vastly fewer and State_6 that has vastly more."
   ]
  },
  {
   "cell_type": "code",
   "execution_count": 325,
   "metadata": {},
   "outputs": [
    {
     "data": {
      "text/html": [
       "<div>\n",
       "<style scoped>\n",
       "    .dataframe tbody tr th:only-of-type {\n",
       "        vertical-align: middle;\n",
       "    }\n",
       "\n",
       "    .dataframe tbody tr th {\n",
       "        vertical-align: top;\n",
       "    }\n",
       "\n",
       "    .dataframe thead th {\n",
       "        text-align: right;\n",
       "    }\n",
       "</style>\n",
       "<table border=\"1\" class=\"dataframe\">\n",
       "  <thead>\n",
       "    <tr style=\"text-align: right;\">\n",
       "      <th></th>\n",
       "      <th>building Count</th>\n",
       "    </tr>\n",
       "  </thead>\n",
       "  <tbody>\n",
       "    <tr>\n",
       "      <th>Residential</th>\n",
       "      <td>43533</td>\n",
       "    </tr>\n",
       "    <tr>\n",
       "      <th>Commercial</th>\n",
       "      <td>32185</td>\n",
       "    </tr>\n",
       "  </tbody>\n",
       "</table>\n",
       "</div>"
      ],
      "text/plain": [
       "             building Count\n",
       "Residential           43533\n",
       "Commercial            32185"
      ]
     },
     "execution_count": 325,
     "metadata": {},
     "output_type": "execute_result"
    }
   ],
   "source": [
    "building_Count = data['building_class'].value_counts().to_frame(name=\"building Count\")\n",
    "building_Count"
   ]
  },
  {
   "cell_type": "code",
   "execution_count": 326,
   "metadata": {},
   "outputs": [
    {
     "data": {
      "text/plain": [
       "Text(0, 0.5, 'Count')"
      ]
     },
     "execution_count": 326,
     "metadata": {},
     "output_type": "execute_result"
    },
    {
     "data": {
      "image/png": "[encoded data removed]",
      "text/plain": [
       "<Figure size 432x288 with 1 Axes>"
      ]
     },
     "metadata": {
      "needs_background": "light"
     },
     "output_type": "display_data"
    }
   ],
   "source": [
    "building_Count.plot(kind='bar')\n",
    "plt.title(\"Building Type Count\")\n",
    "plt.xlabel('Building Type')\n",
    "plt.ylabel('Count')"
   ]
  },
  {
   "cell_type": "markdown",
   "metadata": {},
   "source": [
    "### Based off of this we can see that our data set contains snigificaly more Residential then Comercial Buildings"
   ]
  },
  {
   "cell_type": "code",
   "execution_count": 327,
   "metadata": {},
   "outputs": [
    {
     "data": {
      "text/html": [
       "<div>\n",
       "<style scoped>\n",
       "    .dataframe tbody tr th:only-of-type {\n",
       "        vertical-align: middle;\n",
       "    }\n",
       "\n",
       "    .dataframe tbody tr th {\n",
       "        vertical-align: top;\n",
       "    }\n",
       "\n",
       "    .dataframe thead th {\n",
       "        text-align: right;\n",
       "    }\n",
       "</style>\n",
       "<table border=\"1\" class=\"dataframe\">\n",
       "  <thead>\n",
       "    <tr style=\"text-align: right;\">\n",
       "      <th></th>\n",
       "      <th>facility_type</th>\n",
       "    </tr>\n",
       "  </thead>\n",
       "  <tbody>\n",
       "    <tr>\n",
       "      <th>Multifamily_Uncategorized</th>\n",
       "      <td>39430</td>\n",
       "    </tr>\n",
       "    <tr>\n",
       "      <th>Office_Uncategorized</th>\n",
       "      <td>12508</td>\n",
       "    </tr>\n",
       "    <tr>\n",
       "      <th>Education_Other_classroom</th>\n",
       "      <td>3860</td>\n",
       "    </tr>\n",
       "    <tr>\n",
       "      <th>Lodging_Hotel</th>\n",
       "      <td>2098</td>\n",
       "    </tr>\n",
       "    <tr>\n",
       "      <th>2to4_Unit_Building</th>\n",
       "      <td>1893</td>\n",
       "    </tr>\n",
       "    <tr>\n",
       "      <th>Commercial_Other</th>\n",
       "      <td>1744</td>\n",
       "    </tr>\n",
       "    <tr>\n",
       "      <th>5plus_Unit_Building</th>\n",
       "      <td>1273</td>\n",
       "    </tr>\n",
       "    <tr>\n",
       "      <th>Warehouse_Nonrefrigerated</th>\n",
       "      <td>1255</td>\n",
       "    </tr>\n",
       "    <tr>\n",
       "      <th>Retail_Uncategorized</th>\n",
       "      <td>1130</td>\n",
       "    </tr>\n",
       "    <tr>\n",
       "      <th>Education_College_or_university</th>\n",
       "      <td>1053</td>\n",
       "    </tr>\n",
       "    <tr>\n",
       "      <th>Nursing_Home</th>\n",
       "      <td>772</td>\n",
       "    </tr>\n",
       "    <tr>\n",
       "      <th>Education_Uncategorized</th>\n",
       "      <td>704</td>\n",
       "    </tr>\n",
       "    <tr>\n",
       "      <th>Mixed_Use_Commercial_and_Residential</th>\n",
       "      <td>672</td>\n",
       "    </tr>\n",
       "    <tr>\n",
       "      <th>Lodging_Dormitory_or_fraternity_sorority</th>\n",
       "      <td>669</td>\n",
       "    </tr>\n",
       "    <tr>\n",
       "      <th>Warehouse_Distribution_or_Shipping_center</th>\n",
       "      <td>604</td>\n",
       "    </tr>\n",
       "    <tr>\n",
       "      <th>Warehouse_Selfstorage</th>\n",
       "      <td>577</td>\n",
       "    </tr>\n",
       "    <tr>\n",
       "      <th>Grocery_store_or_food_market</th>\n",
       "      <td>448</td>\n",
       "    </tr>\n",
       "    <tr>\n",
       "      <th>Office_Medical_non_diagnostic</th>\n",
       "      <td>447</td>\n",
       "    </tr>\n",
       "    <tr>\n",
       "      <th>Health_Care_Inpatient</th>\n",
       "      <td>407</td>\n",
       "    </tr>\n",
       "    <tr>\n",
       "      <th>Religious_worship</th>\n",
       "      <td>399</td>\n",
       "    </tr>\n",
       "    <tr>\n",
       "      <th>Industrial</th>\n",
       "      <td>384</td>\n",
       "    </tr>\n",
       "    <tr>\n",
       "      <th>Warehouse_Uncategorized</th>\n",
       "      <td>330</td>\n",
       "    </tr>\n",
       "    <tr>\n",
       "      <th>Mixed_Use_Predominantly_Commercial</th>\n",
       "      <td>256</td>\n",
       "    </tr>\n",
       "    <tr>\n",
       "      <th>Parking_Garage</th>\n",
       "      <td>251</td>\n",
       "    </tr>\n",
       "    <tr>\n",
       "      <th>Office_Bank_or_other_financial</th>\n",
       "      <td>173</td>\n",
       "    </tr>\n",
       "    <tr>\n",
       "      <th>Public_Assembly_Library</th>\n",
       "      <td>160</td>\n",
       "    </tr>\n",
       "    <tr>\n",
       "      <th>Public_Safety_Fire_or_police_station</th>\n",
       "      <td>157</td>\n",
       "    </tr>\n",
       "    <tr>\n",
       "      <th>Public_Assembly_Other</th>\n",
       "      <td>142</td>\n",
       "    </tr>\n",
       "    <tr>\n",
       "      <th>Service_Vehicle_service_repair_shop</th>\n",
       "      <td>138</td>\n",
       "    </tr>\n",
       "    <tr>\n",
       "      <th>Retail_Enclosed_mall</th>\n",
       "      <td>120</td>\n",
       "    </tr>\n",
       "    <tr>\n",
       "      <th>Retail_Strip_shopping_mall</th>\n",
       "      <td>113</td>\n",
       "    </tr>\n",
       "    <tr>\n",
       "      <th>Warehouse_Refrigerated</th>\n",
       "      <td>113</td>\n",
       "    </tr>\n",
       "    <tr>\n",
       "      <th>Public_Assembly_Entertainment_culture</th>\n",
       "      <td>110</td>\n",
       "    </tr>\n",
       "    <tr>\n",
       "      <th>Education_Preschool_or_daycare</th>\n",
       "      <td>108</td>\n",
       "    </tr>\n",
       "    <tr>\n",
       "      <th>Laboratory</th>\n",
       "      <td>107</td>\n",
       "    </tr>\n",
       "    <tr>\n",
       "      <th>Commercial_Unknown</th>\n",
       "      <td>95</td>\n",
       "    </tr>\n",
       "    <tr>\n",
       "      <th>Public_Assembly_Social_meeting</th>\n",
       "      <td>88</td>\n",
       "    </tr>\n",
       "    <tr>\n",
       "      <th>Lodging_Other</th>\n",
       "      <td>75</td>\n",
       "    </tr>\n",
       "    <tr>\n",
       "      <th>Retail_Vehicle_dealership_showroom</th>\n",
       "      <td>74</td>\n",
       "    </tr>\n",
       "    <tr>\n",
       "      <th>Public_Assembly_Recreation</th>\n",
       "      <td>72</td>\n",
       "    </tr>\n",
       "    <tr>\n",
       "      <th>Food_Sales</th>\n",
       "      <td>70</td>\n",
       "    </tr>\n",
       "    <tr>\n",
       "      <th>Public_Assembly_Drama_theater</th>\n",
       "      <td>70</td>\n",
       "    </tr>\n",
       "    <tr>\n",
       "      <th>Service_Uncategorized</th>\n",
       "      <td>68</td>\n",
       "    </tr>\n",
       "    <tr>\n",
       "      <th>Food_Service_Restaurant_or_cafeteria</th>\n",
       "      <td>64</td>\n",
       "    </tr>\n",
       "    <tr>\n",
       "      <th>Health_Care_Outpatient_Clinic</th>\n",
       "      <td>56</td>\n",
       "    </tr>\n",
       "    <tr>\n",
       "      <th>Health_Care_Uncategorized</th>\n",
       "      <td>51</td>\n",
       "    </tr>\n",
       "    <tr>\n",
       "      <th>Public_Safety_Uncategorized</th>\n",
       "      <td>43</td>\n",
       "    </tr>\n",
       "    <tr>\n",
       "      <th>Public_Assembly_Movie_Theater</th>\n",
       "      <td>39</td>\n",
       "    </tr>\n",
       "    <tr>\n",
       "      <th>Public_Safety_Courthouse</th>\n",
       "      <td>38</td>\n",
       "    </tr>\n",
       "    <tr>\n",
       "      <th>Public_Safety_Penitentiary</th>\n",
       "      <td>37</td>\n",
       "    </tr>\n",
       "    <tr>\n",
       "      <th>Health_Care_Outpatient_Uncategorized</th>\n",
       "      <td>36</td>\n",
       "    </tr>\n",
       "    <tr>\n",
       "      <th>Data_Center</th>\n",
       "      <td>27</td>\n",
       "    </tr>\n",
       "    <tr>\n",
       "      <th>Public_Assembly_Uncategorized</th>\n",
       "      <td>25</td>\n",
       "    </tr>\n",
       "    <tr>\n",
       "      <th>Office_Mixed_use</th>\n",
       "      <td>18</td>\n",
       "    </tr>\n",
       "    <tr>\n",
       "      <th>Food_Service_Uncategorized</th>\n",
       "      <td>18</td>\n",
       "    </tr>\n",
       "    <tr>\n",
       "      <th>Food_Service_Other</th>\n",
       "      <td>17</td>\n",
       "    </tr>\n",
       "    <tr>\n",
       "      <th>Mixed_Use_Predominantly_Residential</th>\n",
       "      <td>9</td>\n",
       "    </tr>\n",
       "    <tr>\n",
       "      <th>Public_Assembly_Stadium</th>\n",
       "      <td>9</td>\n",
       "    </tr>\n",
       "    <tr>\n",
       "      <th>Service_Drycleaning_or_Laundry</th>\n",
       "      <td>9</td>\n",
       "    </tr>\n",
       "    <tr>\n",
       "      <th>Lodging_Uncategorized</th>\n",
       "      <td>5</td>\n",
       "    </tr>\n",
       "  </tbody>\n",
       "</table>\n",
       "</div>"
      ],
      "text/plain": [
       "                                           facility_type\n",
       "Multifamily_Uncategorized                          39430\n",
       "Office_Uncategorized                               12508\n",
       "Education_Other_classroom                           3860\n",
       "Lodging_Hotel                                       2098\n",
       "2to4_Unit_Building                                  1893\n",
       "Commercial_Other                                    1744\n",
       "5plus_Unit_Building                                 1273\n",
       "Warehouse_Nonrefrigerated                           1255\n",
       "Retail_Uncategorized                                1130\n",
       "Education_College_or_university                     1053\n",
       "Nursing_Home                                         772\n",
       "Education_Uncategorized                              704\n",
       "Mixed_Use_Commercial_and_Residential                 672\n",
       "Lodging_Dormitory_or_fraternity_sorority             669\n",
       "Warehouse_Distribution_or_Shipping_center            604\n",
       "Warehouse_Selfstorage                                577\n",
       "Grocery_store_or_food_market                         448\n",
       "Office_Medical_non_diagnostic                        447\n",
       "Health_Care_Inpatient                                407\n",
       "Religious_worship                                    399\n",
       "Industrial                                           384\n",
       "Warehouse_Uncategorized                              330\n",
       "Mixed_Use_Predominantly_Commercial                   256\n",
       "Parking_Garage                                       251\n",
       "Office_Bank_or_other_financial                       173\n",
       "Public_Assembly_Library                              160\n",
       "Public_Safety_Fire_or_police_station                 157\n",
       "Public_Assembly_Other                                142\n",
       "Service_Vehicle_service_repair_shop                  138\n",
       "Retail_Enclosed_mall                                 120\n",
       "Retail_Strip_shopping_mall                           113\n",
       "Warehouse_Refrigerated                               113\n",
       "Public_Assembly_Entertainment_culture                110\n",
       "Education_Preschool_or_daycare                       108\n",
       "Laboratory                                           107\n",
       "Commercial_Unknown                                    95\n",
       "Public_Assembly_Social_meeting                        88\n",
       "Lodging_Other                                         75\n",
       "Retail_Vehicle_dealership_showroom                    74\n",
       "Public_Assembly_Recreation                            72\n",
       "Food_Sales                                            70\n",
       "Public_Assembly_Drama_theater                         70\n",
       "Service_Uncategorized                                 68\n",
       "Food_Service_Restaurant_or_cafeteria                  64\n",
       "Health_Care_Outpatient_Clinic                         56\n",
       "Health_Care_Uncategorized                             51\n",
       "Public_Safety_Uncategorized                           43\n",
       "Public_Assembly_Movie_Theater                         39\n",
       "Public_Safety_Courthouse                              38\n",
       "Public_Safety_Penitentiary                            37\n",
       "Health_Care_Outpatient_Uncategorized                  36\n",
       "Data_Center                                           27\n",
       "Public_Assembly_Uncategorized                         25\n",
       "Office_Mixed_use                                      18\n",
       "Food_Service_Uncategorized                            18\n",
       "Food_Service_Other                                    17\n",
       "Mixed_Use_Predominantly_Residential                    9\n",
       "Public_Assembly_Stadium                                9\n",
       "Service_Drycleaning_or_Laundry                         9\n",
       "Lodging_Uncategorized                                  5"
      ]
     },
     "execution_count": 327,
     "metadata": {},
     "output_type": "execute_result"
    }
   ],
   "source": [
    "facility_type_Count = data['facility_type'].value_counts().to_frame(name=\"facility_type\")\n",
    "facility_type_Count"
   ]
  },
  {
   "cell_type": "code",
   "execution_count": 333,
   "metadata": {},
   "outputs": [
    {
     "data": {
      "text/plain": [
       "Text(0, 0.5, 'Count')"
      ]
     },
     "execution_count": 333,
     "metadata": {},
     "output_type": "execute_result"
    },
    {
     "data": {
      "image/png": "[encoded data removed]",
      "text/plain": [
       "<Figure size 1440x720 with 1 Axes>"
      ]
     },
     "metadata": {
      "needs_background": "light"
     },
     "output_type": "display_data"
    }
   ],
   "source": [
    "\n",
    "facility_type_Count.plot(kind='bar', figsize=(20,10))\n",
    "plt.title(\"Facility Type Count\")\n",
    "plt.xlabel('Facility Type')\n",
    "plt.ylabel('Count')"
   ]
  },
  {
   "cell_type": "markdown",
   "metadata": {},
   "source": [
    "### based off of this you can see our larges catagory by a vast majority is Multifamily_Uncatagorized"
   ]
  },
  {
   "cell_type": "code",
   "execution_count": null,
   "metadata": {},
   "outputs": [],
   "source": []
  }
 ],
 "metadata": {
  "interpreter": {
   "hash": "aee8b7b246df8f9039afb4144a1f6fd8d2ca17a180786b69acc140d282b71a49"
  },
  "kernelspec": {
   "display_name": "Python 3.9.10 64-bit",
   "language": "python",
   "name": "python3"
  },
  "language_info": {
   "codemirror_mode": {
    "name": "ipython",
    "version": 3
   },
   "file_extension": ".py",
   "mimetype": "text/x-python",
   "name": "python",
   "nbconvert_exporter": "python",
   "pygments_lexer": "ipython3",
   "version": "3.9.12"
  },
  "orig_nbformat": 4
 },
 "nbformat": 4,
 "nbformat_minor": 2
}
